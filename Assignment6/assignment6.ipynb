{
 "cells": [
  {
   "cell_type": "markdown",
   "id": "795ef74c",
   "metadata": {},
   "source": [
    "# Final assignment Programming 3\n",
    "- Programme: Data Science for Life Sciences\n",
    "- Institute: Hanze University of Applied Sciences\n",
    "- Lecturer: Martijn Herber\n",
    "- Author: Jan Rombouts"
   ]
  },
  {
   "cell_type": "markdown",
   "id": "1c422ddf",
   "metadata": {},
   "source": [
    "# Introduction\n",
    "This project investigates the scientific literature. It uses all published papers available on NCBI Pubmed in XML format. The project combined parallel processing and graph theory to investigate the structure of publishing in the scientific world. Specifically, the following questions were answered:\n",
    "\n",
    "- How large a group of co-authors does the average publication have?\n",
    "- Do authors mostly publish using always the same group of authors?\n",
    "- Do authors mainly reference papers with other authors with whom they've co-authored papers (including themselves)?\n",
    "- What is the distribution in time for citations of papers in general, and for papers with the highest number of citations? Do they differ?\n",
    "- Is there a correlation between citations and the number of keywords that papers share? I.e. papers which share the same subject cite each other more often.\n",
    "- For the most-cited papers (define your own cutoff), is the correlation in shared keywords between them and the papers that cite them different from (5) ?\n",
    "\n",
    "Note that it probably helps to parse the actual NCBI XML data only once and then save it in another, smaller format suitable to answering the questions (e.g. a NetworkX datastructure).\n",
    "\n",
    "Your script should take as input the directory of PubMed abstracts in data/datasets/NCBI/Pubmed and produce nothing but a CSV with the questions asked above and the number that answers that question. Please note that the numbers will differ depending on what you choose to use as metrics, and there is no \"right\" answer! It's about how you motivate the answers that those numbers represent in your report, not the numbers themselves."
   ]
  },
  {
   "cell_type": "code",
   "execution_count": null,
   "id": "1413cb4e",
   "metadata": {},
   "outputs": [],
   "source": [
    "# dir = 'data/datasets/NCBI/Pubmed'"
   ]
  },
  {
   "cell_type": "code",
   "execution_count": null,
   "id": "490b4748",
   "metadata": {},
   "outputs": [],
   "source": [
    "from graphframes import *\n",
    "\n",
    "# Create a Vertex DataFrame with unique ID column \"id\"\n",
    "v = sqlContext.createDataFrame([\n",
    "  (\"a\", \"Alice\", 34),\n",
    "  (\"b\", \"Bob\", 36),\n",
    "  (\"c\", \"Charlie\", 30),\n",
    "], [\"id\", \"name\", \"age\"])\n",
    "\n",
    "# Create an Edge DataFrame with \"src\" and \"dst\" columns\n",
    "e = sqlContext.createDataFrame([\n",
    "  (\"a\", \"b\", \"friend\"),\n",
    "  (\"b\", \"c\", \"follow\"),\n",
    "  (\"c\", \"b\", \"follow\"),\n",
    "], [\"src\", \"dst\", \"relationship\"])\n",
    "# Create a GraphFrame\n",
    "g = GraphFrame(v, e)\n",
    "\n",
    "# Query: Get in-degree of each vertex.\n",
    "g.inDegrees.show()\n",
    "\n",
    "# Query: Count the number of \"follow\" connections in the graph.\n",
    "g.edges.filter(\"relationship = 'follow'\").count()\n",
    "\n",
    "# Run PageRank algorithm, and show results.\n",
    "results = g.pageRank(resetProbability=0.01, maxIter=20)\n",
    "results.vertices.select(\"id\", \"pagerank\").show()"
   ]
  }
 ],
 "metadata": {
  "kernelspec": {
   "display_name": "Python 3 (ipykernel)",
   "language": "python",
   "name": "python3"
  },
  "language_info": {
   "codemirror_mode": {
    "name": "ipython",
    "version": 3
   },
   "file_extension": ".py",
   "mimetype": "text/x-python",
   "name": "python",
   "nbconvert_exporter": "python",
   "pygments_lexer": "ipython3",
   "version": "3.10.5"
  }
 },
 "nbformat": 4,
 "nbformat_minor": 5
}
